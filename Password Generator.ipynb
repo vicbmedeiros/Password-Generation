{
 "cells": [
  {
   "cell_type": "code",
   "execution_count": 2,
   "id": "05f186f0",
   "metadata": {},
   "outputs": [],
   "source": [
    "import random\n",
    "import string\n"
   ]
  },
  {
   "cell_type": "code",
   "execution_count": 3,
   "id": "acab74bc",
   "metadata": {},
   "outputs": [],
   "source": [
    "def generate_password (length=10):\n",
    "    characters = string.punctuation + string.ascii_letters + string.digits\n",
    "    password = ''.join(random.choice(characters) for i in range(length))\n",
    "    return password"
   ]
  },
  {
   "cell_type": "code",
   "execution_count": 4,
   "id": "d27f95d8",
   "metadata": {},
   "outputs": [],
   "source": [
    "def main():\n",
    "    print(\"Password Generator\")\n",
    "    \n",
    "    while True:\n",
    "        length = int(input(\"Enter the desired password length (minimum 4): \"))\n",
    "        if length < 4:\n",
    "            print(\"Password should have at least 4 characters.\")\n",
    "        else: \n",
    "            password_generated = generate_password(length)\n",
    "            print(f\"Generated password: {password_generated}\")\n",
    "            break"
   ]
  },
  {
   "cell_type": "code",
   "execution_count": 9,
   "id": "8ec21566",
   "metadata": {},
   "outputs": [
    {
     "name": "stdout",
     "output_type": "stream",
     "text": [
      "Password Generator\n",
      "Enter the desired password length (minimum 4): 5\n",
      "Generated password: +)PM$\n",
      "Do you want to generate another password? (y or n)y\n",
      "Password Generator\n",
      "Enter the desired password length (minimum 4): 5\n",
      "Generated password: ZT`KS\n",
      "Do you want to generate another password? (y or n)yes\n",
      "Password Generator\n",
      "Enter the desired password length (minimum 4): 6\n",
      "Generated password: cp/>jU\n",
      "Do you want to generate another password? (y or n)no\n"
     ]
    }
   ],
   "source": [
    "main()\n",
    "while True:\n",
    "\n",
    "    choice = input(\"Do you want to generate another password? (y or n)\")\n",
    "    \n",
    "    if choice[0].lower() == 'y':\n",
    "        password = main()\n",
    "    elif choice[0].lower() != 'n':\n",
    "        print(\"Please enter y or n\")\n",
    "    else:\n",
    "        break"
   ]
  },
  {
   "cell_type": "code",
   "execution_count": null,
   "id": "c38bd41d",
   "metadata": {},
   "outputs": [],
   "source": []
  }
 ],
 "metadata": {
  "kernelspec": {
   "display_name": "Python 3 (ipykernel)",
   "language": "python",
   "name": "python3"
  },
  "language_info": {
   "codemirror_mode": {
    "name": "ipython",
    "version": 3
   },
   "file_extension": ".py",
   "mimetype": "text/x-python",
   "name": "python",
   "nbconvert_exporter": "python",
   "pygments_lexer": "ipython3",
   "version": "3.11.5"
  }
 },
 "nbformat": 4,
 "nbformat_minor": 5
}
